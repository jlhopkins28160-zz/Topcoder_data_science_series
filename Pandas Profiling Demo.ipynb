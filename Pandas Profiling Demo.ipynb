{
 "cells": [
  {
   "cell_type": "code",
   "execution_count": null,
   "metadata": {},
   "outputs": [],
   "source": [
    "# Programmer: Johnny L. Hopkins\n",
    "# Date: June 24, 2020\n",
    "# Revised: June 25, 2020\n",
    "# Revised: June 28, 2020\n",
    "# Pandas Profiling Demo: A demostration of the pandas-profiling module using the Ames Housing Dataset\n",
    "# This will generate a streamlined data summary based on a random sample of homes."
   ]
  },
  {
   "cell_type": "code",
   "execution_count": null,
   "metadata": {},
   "outputs": [],
   "source": [
    "# The required imports for pandas-profiling. Pandas is required to use this module\n",
    "import numpy as np\n",
    "import pandas as pd\n",
    "\n",
    "# This is the module we will use for summary statistics on the Ames data set\n",
    "from pandas_profiling import ProfileReport"
   ]
  },
  {
   "cell_type": "code",
   "execution_count": null,
   "metadata": {},
   "outputs": [],
   "source": [
    "# Import the Ames data set using read_csv \n",
    "ames_df = pd.read_csv('C:\\AmesHousing.csv')\n",
    "\n",
    "# Get the first five values of the data set\n",
    "ames_df.head()"
   ]
  },
  {
   "cell_type": "code",
   "execution_count": null,
   "metadata": {},
   "outputs": [],
   "source": [
    "# Get the last five values of the data set\n",
    "ames_df.tail()"
   ]
  },
  {
   "cell_type": "code",
   "execution_count": null,
   "metadata": {},
   "outputs": [],
   "source": [
    "# Now, create the profiling report\n",
    "Ames_profile = ProfileReport(ames_df, \"Summary of Ames Data\")"
   ]
  },
  {
   "cell_type": "code",
   "execution_count": null,
   "metadata": {},
   "outputs": [],
   "source": [
    "# The two functions will output the results to this notebook\n",
    "Ames_profile.to_widgets()\n",
    "Ames_profile.to_notebook_iframe()"
   ]
  }
 ],
 "metadata": {
  "kernelspec": {
   "display_name": "Python 3",
   "language": "python",
   "name": "python3"
  },
  "language_info": {
   "codemirror_mode": {
    "name": "ipython",
    "version": 3
   },
   "file_extension": ".py",
   "mimetype": "text/x-python",
   "name": "python",
   "nbconvert_exporter": "python",
   "pygments_lexer": "ipython3",
   "version": "3.7.6"
  }
 },
 "nbformat": 4,
 "nbformat_minor": 4
}
